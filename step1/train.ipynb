{
 "cells": [
  {
   "cell_type": "code",
   "execution_count": null,
   "metadata": {},
   "outputs": [],
   "source": [
    "!pip install transformers==2.6.0"
   ]
  },
  {
   "cell_type": "code",
   "execution_count": null,
   "metadata": {},
   "outputs": [],
   "source": [
    "!pip install h5py==2.8.0rc1"
   ]
  },
  {
   "cell_type": "code",
   "execution_count": null,
   "metadata": {},
   "outputs": [],
   "source": [
    "!pip install torch"
   ]
  },
  {
   "cell_type": "code",
   "execution_count": null,
   "metadata": {},
   "outputs": [],
   "source": [
    "!pip install pyopenssl\n"
   ]
  },
  {
   "cell_type": "code",
   "execution_count": null,
   "metadata": {},
   "outputs": [],
   "source": [
    "!pip install sklearn"
   ]
  },
  {
   "cell_type": "code",
   "execution_count": 1,
   "metadata": {},
   "outputs": [
    {
     "name": "stdout",
     "output_type": "stream",
     "text": [
      "2.4.0\n"
     ]
    },
    {
     "data": {
      "text/plain": [
       "True"
      ]
     },
     "execution_count": 1,
     "metadata": {},
     "output_type": "execute_result"
    }
   ],
   "source": [
    "import tensorflow as tf\n",
    "# import tensorflow as tf\n",
    "print(tf.__version__)\n",
    "import torch\n",
    "torch.cuda.is_available()"
   ]
  },
  {
   "cell_type": "code",
   "execution_count": 2,
   "metadata": {},
   "outputs": [
    {
     "name": "stderr",
     "output_type": "stream",
     "text": [
      "Using TensorFlow backend.\n"
     ]
    },
    {
     "data": {
      "text/plain": [
       "'1.7.1+cu110'"
      ]
     },
     "execution_count": 2,
     "metadata": {},
     "output_type": "execute_result"
    }
   ],
   "source": [
    "import pandas as pd\n",
    "import numpy as np\n",
    "from tqdm import tqdm, trange\n",
    "import torch\n",
    "from torch.utils.data import TensorDataset, DataLoader, RandomSampler, SequentialSampler\n",
    "from transformers import BertTokenizer, BertConfig\n",
    "\n",
    "from keras.preprocessing.sequence import pad_sequences\n",
    "from sklearn.model_selection import train_test_split\n",
    "import pickle\n",
    "torch.__version__"
   ]
  },
  {
   "cell_type": "code",
   "execution_count": 3,
   "metadata": {},
   "outputs": [],
   "source": [
    "MAX_LEN = 64\n",
    "bs = 64"
   ]
  },
  {
   "cell_type": "code",
   "execution_count": 4,
   "metadata": {},
   "outputs": [],
   "source": [
    "input_ids=pickle.load(open(\"./data/input_ids\",'rb'))\n",
    "tags=pickle.load(open(\"./data/tags\",'rb'))\n",
    "attention_masks=pickle.load(open(\"./data/attention_masks\",'rb'))\n",
    "# attention_masks = [[int(v) for v in u] for u in attention_masks]\n",
    "tr_inputs = input_ids\n",
    "tr_tags = tags\n",
    "tr_masks = attention_masks\n"
   ]
  },
  {
   "cell_type": "code",
   "execution_count": 5,
   "metadata": {},
   "outputs": [],
   "source": [
    "input_ids=pickle.load(open(\"./data/test_input_ids\",'rb'))\n",
    "tags=pickle.load(open(\"./data/test_tags\",'rb'))\n",
    "attention_masks=pickle.load(open(\"./data/test_attention_masks\",'rb'))\n",
    "\n",
    "# attention_masks = [[int(v) for v in u] for u in attention_masks]\n",
    "val_inputs = input_ids\n",
    "val_tags = tags\n",
    "val_masks = attention_masks\n"
   ]
  },
  {
   "cell_type": "code",
   "execution_count": 6,
   "metadata": {},
   "outputs": [],
   "source": [
    "tr_inputs = torch.tensor(tr_inputs)\n",
    "val_inputs = torch.tensor(val_inputs)\n",
    "tr_tags = torch.tensor(tr_tags)\n",
    "val_tags = torch.tensor(val_tags)\n",
    "tr_masks = torch.tensor(tr_masks)\n",
    "val_masks = torch.tensor(val_masks)"
   ]
  },
  {
   "cell_type": "code",
   "execution_count": 7,
   "metadata": {},
   "outputs": [],
   "source": [
    "train_data = TensorDataset(tr_inputs, tr_masks, tr_tags)\n",
    "train_sampler = RandomSampler(train_data)\n",
    "train_dataloader = DataLoader(train_data, sampler=train_sampler, batch_size=bs)\n",
    "\n",
    "valid_data = TensorDataset(val_inputs, val_masks, val_tags)\n",
    "valid_sampler = SequentialSampler(valid_data)\n",
    "valid_dataloader = DataLoader(valid_data, sampler=valid_sampler, batch_size=bs)"
   ]
  },
  {
   "cell_type": "code",
   "execution_count": 8,
   "metadata": {},
   "outputs": [
    {
     "data": {
      "text/plain": [
       "'4.4.0'"
      ]
     },
     "execution_count": 8,
     "metadata": {},
     "output_type": "execute_result"
    }
   ],
   "source": [
    "import transformers\n",
    "from transformers import BertForTokenClassification, AdamW\n",
    "\n",
    "transformers.__version__"
   ]
  },
  {
   "cell_type": "code",
   "execution_count": 9,
   "metadata": {},
   "outputs": [
    {
     "name": "stderr",
     "output_type": "stream",
     "text": [
      "Some weights of the model checkpoint at microsoft/BiomedNLP-PubMedBERT-base-uncased-abstract-fulltext were not used when initializing BertForTokenClassification: ['cls.predictions.bias', 'cls.predictions.transform.dense.weight', 'cls.predictions.transform.dense.bias', 'cls.predictions.transform.LayerNorm.weight', 'cls.predictions.transform.LayerNorm.bias', 'cls.predictions.decoder.weight', 'cls.predictions.decoder.bias', 'cls.seq_relationship.weight', 'cls.seq_relationship.bias']\n",
      "- This IS expected if you are initializing BertForTokenClassification from the checkpoint of a model trained on another task or with another architecture (e.g. initializing a BertForSequenceClassification model from a BertForPreTraining model).\n",
      "- This IS NOT expected if you are initializing BertForTokenClassification from the checkpoint of a model that you expect to be exactly identical (initializing a BertForSequenceClassification model from a BertForSequenceClassification model).\n",
      "Some weights of BertForTokenClassification were not initialized from the model checkpoint at microsoft/BiomedNLP-PubMedBERT-base-uncased-abstract-fulltext and are newly initialized: ['classifier.weight', 'classifier.bias']\n",
      "You should probably TRAIN this model on a down-stream task to be able to use it for predictions and inference.\n"
     ]
    }
   ],
   "source": [
    "tag_values = [0, 1]\n",
    "tag_values.append(2)\n",
    "tag2idx = {t: i for i, t in enumerate(tag_values)}\n",
    "\n",
    "model = BertForTokenClassification.from_pretrained(\n",
    "    'microsoft/BiomedNLP-PubMedBERT-base-uncased-abstract-fulltext',\n",
    "    num_labels=len(tag2idx),\n",
    "    output_attentions = False,\n",
    "    output_hidden_states = False\n",
    ")"
   ]
  },
  {
   "cell_type": "code",
   "execution_count": 10,
   "metadata": {},
   "outputs": [],
   "source": [
    "model.cuda();"
   ]
  },
  {
   "cell_type": "code",
   "execution_count": 11,
   "metadata": {},
   "outputs": [],
   "source": [
    "FULL_FINETUNING = True\n",
    "if FULL_FINETUNING:\n",
    "    param_optimizer = list(model.named_parameters())\n",
    "    no_decay = ['bias', 'gamma', 'beta']\n",
    "    optimizer_grouped_parameters = [\n",
    "        {'params': [p for n, p in param_optimizer if not any(nd in n for nd in no_decay)],\n",
    "         'weight_decay_rate': 0.01},\n",
    "        {'params': [p for n, p in param_optimizer if any(nd in n for nd in no_decay)],\n",
    "         'weight_decay_rate': 0.0}\n",
    "    ]\n",
    "else:\n",
    "    param_optimizer = list(model.classifier.named_parameters())\n",
    "    optimizer_grouped_parameters = [{\"params\": [p for n, p in param_optimizer]}]\n",
    "\n",
    "optimizer = AdamW(\n",
    "    optimizer_grouped_parameters,\n",
    "    lr=5e-5,\n",
    "    eps=1e-8\n",
    ")"
   ]
  },
  {
   "cell_type": "code",
   "execution_count": 12,
   "metadata": {},
   "outputs": [],
   "source": [
    "from transformers import get_linear_schedule_with_warmup\n",
    "\n",
    "epochs = 3\n",
    "max_grad_norm = 1.0\n",
    "\n",
    "# Total number of training steps is number of batches * number of epochs.\n",
    "total_steps = len(train_dataloader) * epochs\n",
    "\n",
    "# Create the learning rate scheduler.\n",
    "scheduler = get_linear_schedule_with_warmup(\n",
    "    optimizer,\n",
    "    num_warmup_steps=0,\n",
    "    num_training_steps=total_steps\n",
    ")"
   ]
  },
  {
   "cell_type": "code",
   "execution_count": 13,
   "metadata": {},
   "outputs": [],
   "source": [
    "from sklearn.metrics import f1_score, accuracy_score"
   ]
  },
  {
   "cell_type": "code",
   "execution_count": 14,
   "metadata": {},
   "outputs": [
    {
     "data": {
      "text/plain": [
       "True"
      ]
     },
     "execution_count": 14,
     "metadata": {},
     "output_type": "execute_result"
    }
   ],
   "source": [
    "torch.cuda.is_available()"
   ]
  },
  {
   "cell_type": "code",
   "execution_count": 15,
   "metadata": {
    "pycharm": {
     "name": "#%%\n"
    }
   },
   "outputs": [
    {
     "name": "stderr",
     "output_type": "stream",
     "text": [
      "Epoch:   0%|                                                                                                                                                                           | 0/3 [00:00<?, ?it/s]e:\\ljx\\step3-v4\\venv\\lib\\site-packages\\ipykernel_launcher.py:31: UserWarning: To copy construct from a tensor, it is recommended to use sourceTensor.clone().detach() or sourceTensor.clone().detach().requires_grad_(True), rather than torch.tensor(sourceTensor).\n",
      "e:\\ljx\\step3-v4\\venv\\lib\\site-packages\\ipykernel_launcher.py:32: UserWarning: To copy construct from a tensor, it is recommended to use sourceTensor.clone().detach() or sourceTensor.clone().detach().requires_grad_(True), rather than torch.tensor(sourceTensor).\n",
      "e:\\ljx\\step3-v4\\venv\\lib\\site-packages\\ipykernel_launcher.py:33: UserWarning: To copy construct from a tensor, it is recommended to use sourceTensor.clone().detach() or sourceTensor.clone().detach().requires_grad_(True), rather than torch.tensor(sourceTensor).\n"
     ]
    },
    {
     "name": "stdout",
     "output_type": "stream",
     "text": [
      "Average train loss: 0.18441066588854316\n"
     ]
    },
    {
     "name": "stderr",
     "output_type": "stream",
     "text": [
      "e:\\ljx\\step3-v4\\venv\\lib\\site-packages\\ipykernel_launcher.py:81: UserWarning: To copy construct from a tensor, it is recommended to use sourceTensor.clone().detach() or sourceTensor.clone().detach().requires_grad_(True), rather than torch.tensor(sourceTensor).\n",
      "e:\\ljx\\step3-v4\\venv\\lib\\site-packages\\ipykernel_launcher.py:82: UserWarning: To copy construct from a tensor, it is recommended to use sourceTensor.clone().detach() or sourceTensor.clone().detach().requires_grad_(True), rather than torch.tensor(sourceTensor).\n",
      "e:\\ljx\\step3-v4\\venv\\lib\\site-packages\\ipykernel_launcher.py:83: UserWarning: To copy construct from a tensor, it is recommended to use sourceTensor.clone().detach() or sourceTensor.clone().detach().requires_grad_(True), rather than torch.tensor(sourceTensor).\n",
      "Epoch:  33%|██████████████████████████████████████████████████████▎                                                                                                            | 1/3 [00:53<01:47, 53.75s/it]"
     ]
    },
    {
     "name": "stdout",
     "output_type": "stream",
     "text": [
      "Validation loss: 0.13605658011510968\n",
      "Validation Accuracy: 0.951179693615118\n",
      "Validation F1-Score: 0.786878844088646\n",
      "\n"
     ]
    },
    {
     "name": "stderr",
     "output_type": "stream",
     "text": [
      "e:\\ljx\\step3-v4\\venv\\lib\\site-packages\\ipykernel_launcher.py:31: UserWarning: To copy construct from a tensor, it is recommended to use sourceTensor.clone().detach() or sourceTensor.clone().detach().requires_grad_(True), rather than torch.tensor(sourceTensor).\n",
      "e:\\ljx\\step3-v4\\venv\\lib\\site-packages\\ipykernel_launcher.py:32: UserWarning: To copy construct from a tensor, it is recommended to use sourceTensor.clone().detach() or sourceTensor.clone().detach().requires_grad_(True), rather than torch.tensor(sourceTensor).\n",
      "e:\\ljx\\step3-v4\\venv\\lib\\site-packages\\ipykernel_launcher.py:33: UserWarning: To copy construct from a tensor, it is recommended to use sourceTensor.clone().detach() or sourceTensor.clone().detach().requires_grad_(True), rather than torch.tensor(sourceTensor).\n"
     ]
    },
    {
     "name": "stdout",
     "output_type": "stream",
     "text": [
      "Average train loss: 0.1362871830884497\n"
     ]
    },
    {
     "name": "stderr",
     "output_type": "stream",
     "text": [
      "e:\\ljx\\step3-v4\\venv\\lib\\site-packages\\ipykernel_launcher.py:81: UserWarning: To copy construct from a tensor, it is recommended to use sourceTensor.clone().detach() or sourceTensor.clone().detach().requires_grad_(True), rather than torch.tensor(sourceTensor).\n",
      "e:\\ljx\\step3-v4\\venv\\lib\\site-packages\\ipykernel_launcher.py:82: UserWarning: To copy construct from a tensor, it is recommended to use sourceTensor.clone().detach() or sourceTensor.clone().detach().requires_grad_(True), rather than torch.tensor(sourceTensor).\n",
      "e:\\ljx\\step3-v4\\venv\\lib\\site-packages\\ipykernel_launcher.py:83: UserWarning: To copy construct from a tensor, it is recommended to use sourceTensor.clone().detach() or sourceTensor.clone().detach().requires_grad_(True), rather than torch.tensor(sourceTensor).\n",
      "Epoch:  67%|████████████████████████████████████████████████████████████████████████████████████████████████████████████▋                                                      | 2/3 [01:47<00:53, 53.72s/it]"
     ]
    },
    {
     "name": "stdout",
     "output_type": "stream",
     "text": [
      "Validation loss: 0.1425204509869218\n",
      "Validation Accuracy: 0.9516716985351672\n",
      "Validation F1-Score: 0.7864835490564173\n",
      "\n"
     ]
    },
    {
     "name": "stderr",
     "output_type": "stream",
     "text": [
      "e:\\ljx\\step3-v4\\venv\\lib\\site-packages\\ipykernel_launcher.py:31: UserWarning: To copy construct from a tensor, it is recommended to use sourceTensor.clone().detach() or sourceTensor.clone().detach().requires_grad_(True), rather than torch.tensor(sourceTensor).\n",
      "e:\\ljx\\step3-v4\\venv\\lib\\site-packages\\ipykernel_launcher.py:32: UserWarning: To copy construct from a tensor, it is recommended to use sourceTensor.clone().detach() or sourceTensor.clone().detach().requires_grad_(True), rather than torch.tensor(sourceTensor).\n",
      "e:\\ljx\\step3-v4\\venv\\lib\\site-packages\\ipykernel_launcher.py:33: UserWarning: To copy construct from a tensor, it is recommended to use sourceTensor.clone().detach() or sourceTensor.clone().detach().requires_grad_(True), rather than torch.tensor(sourceTensor).\n"
     ]
    },
    {
     "name": "stdout",
     "output_type": "stream",
     "text": [
      "Average train loss: 0.11769815894371982\n"
     ]
    },
    {
     "name": "stderr",
     "output_type": "stream",
     "text": [
      "e:\\ljx\\step3-v4\\venv\\lib\\site-packages\\ipykernel_launcher.py:81: UserWarning: To copy construct from a tensor, it is recommended to use sourceTensor.clone().detach() or sourceTensor.clone().detach().requires_grad_(True), rather than torch.tensor(sourceTensor).\n",
      "e:\\ljx\\step3-v4\\venv\\lib\\site-packages\\ipykernel_launcher.py:82: UserWarning: To copy construct from a tensor, it is recommended to use sourceTensor.clone().detach() or sourceTensor.clone().detach().requires_grad_(True), rather than torch.tensor(sourceTensor).\n",
      "e:\\ljx\\step3-v4\\venv\\lib\\site-packages\\ipykernel_launcher.py:83: UserWarning: To copy construct from a tensor, it is recommended to use sourceTensor.clone().detach() or sourceTensor.clone().detach().requires_grad_(True), rather than torch.tensor(sourceTensor).\n",
      "Epoch: 100%|███████████████████████████████████████████████████████████████████████████████████████████████████████████████████████████████████████████████████████████████████| 3/3 [02:41<00:00, 53.76s/it]"
     ]
    },
    {
     "name": "stdout",
     "output_type": "stream",
     "text": [
      "Validation loss: 0.1553073914255947\n",
      "Validation Accuracy: 0.9506429609750643\n",
      "Validation F1-Score: 0.7870718765074771\n",
      "\n"
     ]
    },
    {
     "name": "stderr",
     "output_type": "stream",
     "text": [
      "\n"
     ]
    }
   ],
   "source": [
    "## Store the average loss after each epoch so we can plot them.\n",
    "device = torch.device(\"cuda\" if torch.cuda.is_available() else \"cpu\")\n",
    "n_gpu = torch.cuda.device_count()\n",
    "\n",
    "loss_values, validation_loss_values = [], []\n",
    "\n",
    "for _ in trange(epochs, desc=\"Epoch\"):\n",
    "    # ========================================\n",
    "    #               Training\n",
    "    # ========================================\n",
    "    # Perform one full pass over the training set.\n",
    "\n",
    "    # Put the model into training mode.\n",
    "    model.train()\n",
    "    # Reset the total loss for this epoch.\n",
    "    total_loss = 0\n",
    "\n",
    "    # Training loop\n",
    "    for step, batch in enumerate(train_dataloader):\n",
    "        # add batch to gpu\n",
    "        batch = tuple(t.to(device) for t in batch)\n",
    "        b_input_ids, b_input_mask, b_labels = batch\n",
    "        \n",
    "#         b_input_ids = b_input_ids.type(torch.LongTensor)\n",
    "#         b_input_mask= b_input_mask.type(torch.LongTensor)\n",
    "#         b_labels = b_labels.type(torch.LongTensor)\n",
    "        \n",
    "#         b_input_ids = b_input_ids.to(device)\n",
    "#         b_input_mask = b_input_mask.to(device)\n",
    "#         b_labels = b_labels.to(device)\n",
    "        b_input_ids = torch.tensor(b_input_ids).to(torch.int64)\n",
    "        b_input_mask = torch.tensor(b_input_mask).to(torch.int64)\n",
    "        b_labels = torch.tensor(b_labels).to(torch.int64)\n",
    "        \n",
    "        \n",
    "        # Always clear any previously calculated gradients before performing a backward pass.\n",
    "        model.zero_grad()\n",
    "        # forward pass\n",
    "        # This will return the loss (rather than the model output)\n",
    "        # because we have provided the `labels`.\n",
    "        outputs = model(b_input_ids, token_type_ids=None,\n",
    "                        attention_mask=b_input_mask, labels=b_labels)\n",
    "        # get the loss\n",
    "        loss = outputs[0]\n",
    "        # Perform a backward pass to calculate the gradients.\n",
    "        loss.backward()\n",
    "        # track train loss\n",
    "        total_loss += loss.item()\n",
    "        # Clip the norm of the gradient\n",
    "        # This is to help prevent the \"exploding gradients\" problem.\n",
    "        torch.nn.utils.clip_grad_norm_(parameters=model.parameters(), max_norm=max_grad_norm)\n",
    "        # update parameters\n",
    "        optimizer.step()\n",
    "        # Update the learning rate.\n",
    "        scheduler.step()\n",
    "\n",
    "    # Calculate the average loss over the training data.\n",
    "    avg_train_loss = total_loss / len(train_dataloader)\n",
    "    print(\"Average train loss: {}\".format(avg_train_loss))\n",
    "\n",
    "    # Store the loss value for plotting the learning curve.\n",
    "    loss_values.append(avg_train_loss)\n",
    "\n",
    "\n",
    "    # ========================================\n",
    "    #               Validation\n",
    "    # ========================================\n",
    "    # After the completion of each training epoch, measure our performance on\n",
    "    # our validation set.\n",
    "\n",
    "    # Put the model into evaluation mode\n",
    "    model.eval()\n",
    "    # Reset the validation loss for this epoch.\n",
    "    eval_loss, eval_accuracy = 0, 0\n",
    "    nb_eval_steps, nb_eval_examples = 0, 0\n",
    "    predictions , true_labels = [], []\n",
    "    for batch in valid_dataloader:\n",
    "        batch = tuple(t.to(device) for t in batch)\n",
    "        b_input_ids, b_input_mask, b_labels = batch\n",
    "        \n",
    "        b_input_ids = torch.tensor(b_input_ids).to(torch.int64)\n",
    "        b_input_mask = torch.tensor(b_input_mask).to(torch.int64)\n",
    "        b_labels = torch.tensor(b_labels).to(torch.int64)\n",
    "\n",
    "        # Telling the model not to compute or store gradients,\n",
    "        # saving memory and speeding up validation\n",
    "        with torch.no_grad():\n",
    "            # Forward pass, calculate logit predictions.\n",
    "            # This will return the logits rather than the loss because we have not provided labels.\n",
    "            outputs = model(b_input_ids, token_type_ids=None,\n",
    "                            attention_mask=b_input_mask, labels=b_labels)\n",
    "        # Move logits and labels to CPU\n",
    "        logits = outputs[1].detach().cpu().numpy()\n",
    "        label_ids = b_labels.to('cpu').numpy()\n",
    "\n",
    "        # Calculate the accuracy for this batch of test sentences.\n",
    "        eval_loss += outputs[0].mean().item()\n",
    "        predictions.extend([list(p) for p in np.argmax(logits, axis=2)])\n",
    "        true_labels.extend(label_ids)\n",
    "\n",
    "    eval_loss = eval_loss / len(valid_dataloader)\n",
    "    validation_loss_values.append(eval_loss)\n",
    "    print(\"Validation loss: {}\".format(eval_loss))\n",
    "    pred_tags = [tag_values[p_i]  for p, l in zip(predictions, true_labels)\n",
    "                                 for p_i, l_i in zip(p, l) if tag_values[l_i] != 2]\n",
    "    \n",
    "    valid_tags = [tag_values[l_i] for l in true_labels\n",
    "                                  for l_i in l if tag_values[l_i] != 2]\n",
    "        \n",
    "    print(\"Validation Accuracy: {}\".format(accuracy_score(pred_tags, valid_tags)))\n",
    "    print(\"Validation F1-Score: {}\".format(f1_score(pred_tags, valid_tags)))\n",
    "    print()\n"
   ]
  },
  {
   "cell_type": "code",
   "execution_count": 16,
   "metadata": {},
   "outputs": [
    {
     "data": {
      "image/png": "[encoded data removed]",
      "text/plain": [
       "<Figure size 864x432 with 1 Axes>"
      ]
     },
     "metadata": {},
     "output_type": "display_data"
    }
   ],
   "source": [
    "import matplotlib.pyplot as plt\n",
    "%matplotlib inline\n",
    "\n",
    "import seaborn as sns\n",
    "\n",
    "# Use plot styling from seaborn.\n",
    "sns.set(style='darkgrid')\n",
    "\n",
    "# Increase the plot size and font size.\n",
    "sns.set(font_scale=1.5)\n",
    "plt.rcParams[\"figure.figsize\"] = (12,6)\n",
    "\n",
    "# Plot the learning curve.\n",
    "plt.plot(loss_values, 'b-o', label=\"training loss\")\n",
    "plt.plot(validation_loss_values, 'r-o', label=\"validation loss\")\n",
    "\n",
    "# Label the plot.\n",
    "plt.title(\"Learning curve\")\n",
    "plt.xlabel(\"Epoch\")\n",
    "plt.ylabel(\"Loss\")\n",
    "plt.legend()\n",
    "\n",
    "plt.show()"
   ]
  },
  {
   "cell_type": "code",
   "execution_count": 17,
   "metadata": {},
   "outputs": [],
   "source": [
    "torch.save(model, './model.pth')"
   ]
  },
  {
   "cell_type": "code",
   "execution_count": 18,
   "metadata": {},
   "outputs": [],
   "source": [
    "test_sentences =[\n",
    "    \"\"\"\n",
    "    Weaned off vent to CPAP and was extubated in the afternoon on 9-2 by the pulmonary team .\n",
    "    \"\"\",\n",
    "    \"\"\"\n",
    "    She was intubated and was resuscitated after 10-22 minutes of PEA arrest .\n",
    "    \"\"\",\n",
    "    \"\"\"\n",
    "    He was given succinyl choline and etomidate for intubation .\n",
    "    \"\"\",\n",
    "    \"\"\"\n",
    "    Had post-op anemia and was transfused with appropriate effect .\n",
    "    \"\"\",\n",
    "    \"\"\"\n",
    "    Per patient , he took Pepto-Bismol 3 times earlier in the weeks for 3 days .\n",
    "    \"\"\",\n",
    "    \"\"\"\n",
    "    Pt is a 89 yo male with SSS s/p pacer , admitted to Neurosurgery with SDH with acute respiratory distress/ wheezing on the floor .\n",
    "    \"\"\",\n",
    "    \"\"\"\n",
    "    Known lastname 28272 is a 63 year-old man with PAF , PVD , HLD , HTN and OSA with complaint of several months of exertional chest pain and dyspnea .\n",
    "    \"\"\"\n",
    "]\n",
    "\n"
   ]
  },
  {
   "cell_type": "code",
   "execution_count": 19,
   "metadata": {},
   "outputs": [],
   "source": [
    "import numpy as np\n",
    " \n",
    "def softmax(x, axis=1):\n",
    "    row_max = x.max(axis=axis)\n",
    " \n",
    "    row_max=row_max.reshape(-1, 1)\n",
    "    x = x - row_max\n",
    " \n",
    "    x_exp = np.exp(x)\n",
    "    x_sum = np.sum(x_exp, axis=axis, keepdims=True)\n",
    "    s = x_exp / x_sum\n",
    "    return s\n"
   ]
  },
  {
   "cell_type": "code",
   "execution_count": 23,
   "metadata": {},
   "outputs": [
    {
     "name": "stdout",
     "output_type": "stream",
     "text": [
      "0.0453\t0\t[CLS]\n",
      "0.0453\t0\tweaned\n",
      "0.0453\t0\toff\n",
      "0.0453\t0\tvent\n",
      "0.0453\t0\tto\n",
      "0.0328\t1\tcpap\n",
      "0.0453\t0\tand\n",
      "0.0453\t0\twas\n",
      "0.0453\t0\textubated\n",
      "0.0453\t0\tin\n",
      "0.0453\t0\tthe\n",
      "0.0453\t0\tafternoon\n",
      "0.0453\t0\ton\n",
      "0.0453\t0\t9\n",
      "0.0453\t0\t-\n",
      "0.0453\t0\t2\n",
      "0.0453\t0\tby\n",
      "0.0453\t0\tthe\n",
      "0.0328\t1\tpulmonary\n",
      "0.0453\t0\tteam\n",
      "0.0453\t0\t.\n",
      "0.0453\t0\t[SEP]\n",
      "\n",
      "0.0584\t0\t[CLS]\n",
      "0.0584\t0\tshe\n",
      "0.0584\t0\twas\n",
      "0.0584\t0\tintubated\n",
      "0.0584\t0\tand\n",
      "0.0584\t0\twas\n",
      "0.0584\t0\tresuscitated\n",
      "0.0584\t0\tafter\n",
      "0.0584\t0\t10\n",
      "0.0584\t0\t-\n",
      "0.0584\t0\t22\n",
      "0.0584\t0\tminutes\n",
      "0.0584\t0\tof\n",
      "0.0840\t1\tpea\n",
      "0.0584\t0\tarrest\n",
      "0.0584\t0\t.\n",
      "0.0584\t0\t[SEP]\n",
      "\n",
      "0.0517\t0\t[CLS]\n",
      "0.0517\t0\the\n",
      "0.0517\t0\twas\n",
      "0.0517\t0\tgiven\n",
      "0.0517\t0\tsuccinyl\n",
      "0.0517\t0\tcholine\n",
      "0.0517\t0\tand\n",
      "0.0517\t0\tetomidate\n",
      "0.0517\t0\tfor\n",
      "0.0517\t0\tintubation\n",
      "0.0517\t0\t.\n",
      "0.0517\t0\t[SEP]\n",
      "\n",
      "0.1409\t0\t[CLS]\n",
      "0.1409\t0\thad\n",
      "0.1409\t0\tpost\n",
      "0.1409\t0\t-\n",
      "0.0599\t1\top\n",
      "0.0599\t1\tanemia\n",
      "0.1409\t0\tand\n",
      "0.1409\t0\twas\n",
      "0.1409\t0\ttransfused\n",
      "0.1409\t0\twith\n",
      "0.1409\t0\tappropriate\n",
      "0.1409\t0\teffect\n",
      "0.1409\t0\t.\n",
      "0.1409\t0\t[SEP]\n",
      "\n",
      "0.0519\t0\t[CLS]\n",
      "0.0519\t0\tper\n",
      "0.0519\t0\tpatient\n",
      "0.0519\t0\t,\n",
      "0.0519\t0\the\n",
      "0.0519\t0\ttook\n",
      "0.0519\t0\tpepto\n",
      "0.0519\t0\t-\n",
      "0.0519\t0\tbismol\n",
      "0.0519\t0\t3\n",
      "0.0519\t0\ttimes\n",
      "0.0519\t0\tearlier\n",
      "0.0519\t0\tin\n",
      "0.0519\t0\tthe\n",
      "0.0519\t0\tweeks\n",
      "0.0519\t0\tfor\n",
      "0.0519\t0\t3\n",
      "0.0519\t0\tdays\n",
      "0.0519\t0\t.\n",
      "0.0519\t0\t[SEP]\n",
      "\n",
      "0.1323\t0\t[CLS]\n",
      "0.9352\t1\tpt\n",
      "0.1323\t0\tis\n",
      "0.1323\t0\ta\n",
      "0.1323\t0\t89\n",
      "0.9352\t1\tyo\n",
      "0.1323\t0\tmale\n",
      "0.1323\t0\twith\n",
      "0.9352\t1\tsss\n",
      "0.9352\t1\ts\n",
      "0.9352\t1\t/\n",
      "0.9352\t1\tp\n",
      "0.1323\t0\tpacer\n",
      "0.1323\t0\t,\n",
      "0.1323\t0\tadmitted\n",
      "0.1323\t0\tto\n",
      "0.1323\t0\tneurosurgery\n",
      "0.1323\t0\twith\n",
      "0.9352\t1\tsdh\n",
      "0.1323\t0\twith\n",
      "0.1323\t0\tacute\n",
      "0.1323\t0\trespiratory\n",
      "0.1323\t0\tdistress\n",
      "0.1323\t0\t/\n",
      "0.1323\t0\twheezing\n",
      "0.1323\t0\ton\n",
      "0.1323\t0\tthe\n",
      "0.1323\t0\tfloor\n",
      "0.1323\t0\t.\n",
      "0.1323\t0\t[SEP]\n",
      "\n",
      "0.4282\t0\t[CLS]\n",
      "0.7513\t1\tknown\n",
      "0.7513\t1\tlastname\n",
      "0.4282\t0\t28272\n",
      "0.4282\t0\tis\n",
      "0.4282\t0\ta\n",
      "0.4282\t0\t63\n",
      "0.4282\t0\tyear\n",
      "0.4282\t0\t-\n",
      "0.4282\t0\told\n",
      "0.4282\t0\tman\n",
      "0.4282\t0\twith\n",
      "0.7513\t1\tpaf\n",
      "0.4282\t0\t,\n",
      "0.7513\t1\tpvd\n",
      "0.4282\t0\t,\n",
      "0.7513\t1\thld\n",
      "0.4282\t0\t,\n",
      "0.7513\t1\thtn\n",
      "0.4282\t0\tand\n",
      "0.7513\t1\tosa\n",
      "0.4282\t0\twith\n",
      "0.4282\t0\tcomplaint\n",
      "0.4282\t0\tof\n",
      "0.4282\t0\tseveral\n",
      "0.4282\t0\tmonths\n",
      "0.4282\t0\tof\n",
      "0.4282\t0\texertional\n",
      "0.4282\t0\tchest\n",
      "0.4282\t0\tpain\n",
      "0.4282\t0\tand\n",
      "0.7513\t1\tdyspnea\n",
      "0.4282\t0\t.\n",
      "0.4282\t0\t[SEP]\n",
      "\n"
     ]
    }
   ],
   "source": [
    "tokenizer = BertTokenizer.from_pretrained('microsoft/BiomedNLP-PubMedBERT-base-uncased-abstract-fulltext')\n",
    "\n",
    "for test_sentence in test_sentences:\n",
    "\n",
    "    tokenized_sentence = tokenizer.encode(test_sentence)\n",
    "    input_ids = torch.tensor([tokenized_sentence]).cuda()\n",
    "\n",
    "    with torch.no_grad():\n",
    "        output = model(input_ids)\n",
    "    logits = output[0].to('cpu').numpy()[0]\n",
    "    prob = softmax(logits)\n",
    "    label_indices = np.argmax(output[0].to('cpu').numpy(), axis=2)\n",
    "    # join bpe split tokens\n",
    "    tokens = tokenizer.convert_ids_to_tokens(input_ids.to('cpu').numpy()[0])\n",
    "    new_tokens, new_labels = [], []\n",
    "    new_prob = []\n",
    "    new_prob_ = []\n",
    "    for token, label_idx in zip(tokens, label_indices[0]):\n",
    "        if token.startswith(\"##\"):\n",
    "            new_tokens[-1] = new_tokens[-1] + token[2:]\n",
    "        else:\n",
    "            new_labels.append(tag_values[label_idx])\n",
    "            new_tokens.append(token)\n",
    "            new_prob.append(prob[label_idx][1])\n",
    "            new_prob_.append(prob[label_idx][0])\n",
    "            \n",
    "    i = 0\n",
    "    for token, label in zip(new_tokens, new_labels):\n",
    "        print(\"{:.4f}\\t{}\\t{}\".format(new_prob[i], label, token))\n",
    "        i += 1\n",
    "    print(\"\")"
   ]
  },
  {
   "cell_type": "code",
   "execution_count": null,
   "metadata": {},
   "outputs": [],
   "source": []
  }
 ],
 "metadata": {
  "kernelspec": {
   "display_name": "Python 3",
   "language": "python",
   "name": "python3"
  },
  "language_info": {
   "codemirror_mode": {
    "name": "ipython",
    "version": 3
   },
   "file_extension": ".py",
   "mimetype": "text/x-python",
   "name": "python",
   "nbconvert_exporter": "python",
   "pygments_lexer": "ipython3",
   "version": "3.6.12"
  }
 },
 "nbformat": 4,
 "nbformat_minor": 4
}
