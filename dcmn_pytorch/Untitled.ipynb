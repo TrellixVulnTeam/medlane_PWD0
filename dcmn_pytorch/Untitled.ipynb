{
 "cells": [
  {
   "cell_type": "code",
   "execution_count": 80,
   "metadata": {},
   "outputs": [],
   "source": [
    "import pickle \n",
    "from run import SwagExample\n",
    "\n",
    "def parse_mc(input_file, answer_file):\n",
    "    max_pad_length = 16\n",
    "\n",
    "    with open(input_file, 'rb') as f:\n",
    "        sentences = pickle.load(f)\n",
    "    with open(answer_file, 'rb') as f:\n",
    "        labels = pickle.load(f)\n",
    "    cnt = 0\n",
    "    for i in range(len(sentences)):\n",
    "        u = sentences[i]\n",
    "        while len(u) < max_pad_length:\n",
    "            u.append('[PAD] [PAD]')\n",
    "        if len(u) > max_pad_length:\n",
    "            # print(u)\n",
    "            cnt += 1\n",
    "            u = u[:max_pad_length]\n",
    "        sentences[i] = tuple(u)\n",
    "        if labels[i]>=max_pad_length-2:\n",
    "            labels[i] = -1\n",
    "        if labels[i]<0:\n",
    "            labels[i] = -1\n",
    "    print(cnt)\n",
    "    \n",
    "    _sentences = []\n",
    "    _labels = []\n",
    "    for i in range(len(sentences)):\n",
    "        if len(sentences[i][0].split(' ')) + len(sentences[i][1].split(' '))+ len(sentences[i][2].split(' ')) <50 \\\n",
    "            and labels[i]>=0:\n",
    "            _sentences.append(sentences[i])\n",
    "            _labels.append(labels[i])\n",
    "    print(len(labels))\n",
    "    sentences = _sentences\n",
    "    labels= _labels\n",
    "    print(len(labels))\n",
    "\n",
    "    q_id = [i+1 for i in range(len(labels))]\n",
    "    article = [u[0] for u in sentences]\n",
    "    question = [u[1] for u in sentences]\n",
    "    cts = []\n",
    "    for i in range(max_pad_length-2):\n",
    "        cts.append([u[i+2] for u in sentences])\n",
    "    y = labels\n",
    "\n",
    "    return article, question, cts, y, q_id"
   ]
  },
  {
   "cell_type": "code",
   "execution_count": 81,
   "metadata": {},
   "outputs": [],
   "source": [
    "input_file = './data/train_sentences.pkl'\n",
    "answer_file = './data/train_labels.pkl'"
   ]
  },
  {
   "cell_type": "code",
   "execution_count": 82,
   "metadata": {},
   "outputs": [
    {
     "name": "stdout",
     "output_type": "stream",
     "text": [
      "169\n",
      "13467\n",
      "12327\n"
     ]
    }
   ],
   "source": [
    "article, question, cts, y, q_id = parse_mc(input_file, answer_file)"
   ]
  },
  {
   "cell_type": "code",
   "execution_count": 68,
   "metadata": {},
   "outputs": [
    {
     "name": "stdout",
     "output_type": "stream",
     "text": [
      "12391\n"
     ]
    }
   ],
   "source": [
    "print(len(cts[0]))"
   ]
  },
  {
   "cell_type": "code",
   "execution_count": 69,
   "metadata": {},
   "outputs": [
    {
     "name": "stdout",
     "output_type": "stream",
     "text": [
      "['negative to date / no growth to date', 'blood poisoning', 'Intensive care unit', 'blood poisoning', 'low blood oxygen levels', 'low blood pressure', 'Open reduction and internal fixation, such as with the orthopedic repair of a hip fracture', 'Intramuscular', 'Atrial Fibrillation Investigation with Bidisomide [trial]', 'Cerebrovascular accident (Stroke)', 'coughing up of blood', 'acid mucopolysaccharide']\n",
      "['are negative after several days', 'Narrowing of blood vessel', 'imaging', 'Narrowing of blood vessel', 'low level of oxygen in blood', 'high blood pressure', 'open reduction internal fixation', 'within the spinal cord', 'abnormal heart rate', 'brain artery accident', 'coughing up blood', 'abnormal mucopolysacchariduria']\n",
      "['[PAD] [PAD]', 'blood disease', '[PAD] [PAD]', 'blood disease', 'blood disease', '[PAD] [PAD]', 'treatment to fix a broken bone', '[PAD] [PAD]', 'abnormal heart rhythm', 'costovertebral angle tenderness', 'spitting of blood', 'ampules']\n",
      "['[PAD] [PAD]', 'an infection of part of the body in which pus is produced', '[PAD] [PAD]', 'an infection of part of the body in which pus is produced', 'deficient oxygenation of the blood', '[PAD] [PAD]', 'surgery used to stabilize and heal a broken bone', '[PAD] [PAD]', '[PAD] [PAD]', '[PAD] [PAD]', 'blood filtering', 'adenosine monophosphate']\n"
     ]
    }
   ],
   "source": [
    "print(cts[0][176*4: 179*4])\n",
    "print(cts[1][176*4: 179*4])\n",
    "print(cts[2][176*4: 179*4])\n",
    "print(cts[3][176*4: 179*4])\n"
   ]
  },
  {
   "cell_type": "code",
   "execution_count": 17,
   "metadata": {},
   "outputs": [],
   "source": [
    "import numpy as np"
   ]
  },
  {
   "cell_type": "code",
   "execution_count": 30,
   "metadata": {},
   "outputs": [],
   "source": [
    "examples = [\n",
    "        SwagExample(\n",
    "            swag_id=s8,\n",
    "            context_sentence=s1,\n",
    "            start_ending=s2,  # in the swag dataset, the\n",
    "            # common beginning of each\n",
    "            # choice is stored in \"sent2\".\n",
    "            endings=s3,\n",
    "            label=s7\n",
    "        ) for i, (s1, s2, *s3, s7, s8), in enumerate(zip(article, question, *cts, y, q_id))\n",
    "    ]"
   ]
  },
  {
   "cell_type": "code",
   "execution_count": 32,
   "metadata": {},
   "outputs": [
    {
     "name": "stdout",
     "output_type": "stream",
     "text": [
      "500\n",
      "['Stage 2 break in skin : On sacrum and scrotum .', 'Stage 2 sores : On sacrum and scrotum .', '[PAD] [PAD]', '[PAD] [PAD]']\n"
     ]
    }
   ],
   "source": [
    "print(len(examples))\n",
    "print(examples[0].endings)"
   ]
  },
  {
   "cell_type": "code",
   "execution_count": null,
   "metadata": {},
   "outputs": [],
   "source": []
  }
 ],
 "metadata": {
  "kernelspec": {
   "display_name": "Python 3",
   "language": "python",
   "name": "python3"
  },
  "language_info": {
   "codemirror_mode": {
    "name": "ipython",
    "version": 3
   },
   "file_extension": ".py",
   "mimetype": "text/x-python",
   "name": "python",
   "nbconvert_exporter": "python",
   "pygments_lexer": "ipython3",
   "version": "3.6.12"
  }
 },
 "nbformat": 4,
 "nbformat_minor": 4
}
